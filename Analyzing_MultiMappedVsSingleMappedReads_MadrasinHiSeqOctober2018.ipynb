{
 "cells": [
  {
   "cell_type": "markdown",
   "metadata": {},
   "source": [
    "# Look at the top expressed genes in Multi-mapped regions vs single mapped regions\n",
    "\n",
    "Extracted reads that are map to multiple locations vs single location"
   ]
  },
  {
   "cell_type": "code",
   "execution_count": 1,
   "metadata": {},
   "outputs": [],
   "source": [
    "import pandas as pd"
   ]
  },
  {
   "cell_type": "code",
   "execution_count": 9,
   "metadata": {},
   "outputs": [],
   "source": [
    "#treatment=\"Madrasin_HiSeq_October2018_alignments/DMSTreatedSample_TAGGCATG_S1\"\n",
    "treatment=\"Madrasin_HiSeq_October2018_alignments/NoDMSSample_CTCTCTAC_S2\""
   ]
  },
  {
   "cell_type": "code",
   "execution_count": 10,
   "metadata": {},
   "outputs": [
    {
     "name": "stdout",
     "output_type": "stream",
     "text": [
      "(38310, 3)\n"
     ]
    },
    {
     "data": {
      "text/html": [
       "<div>\n",
       "<style scoped>\n",
       "    .dataframe tbody tr th:only-of-type {\n",
       "        vertical-align: middle;\n",
       "    }\n",
       "\n",
       "    .dataframe tbody tr th {\n",
       "        vertical-align: top;\n",
       "    }\n",
       "\n",
       "    .dataframe thead th {\n",
       "        text-align: right;\n",
       "    }\n",
       "</style>\n",
       "<table border=\"1\" class=\"dataframe\">\n",
       "  <thead>\n",
       "    <tr style=\"text-align: right;\">\n",
       "      <th></th>\n",
       "      <th>GeneName</th>\n",
       "      <th>Length</th>\n",
       "      <th>Counts</th>\n",
       "    </tr>\n",
       "  </thead>\n",
       "  <tbody>\n",
       "    <tr>\n",
       "      <th>0</th>\n",
       "      <td>DDX11L1</td>\n",
       "      <td>1652</td>\n",
       "      <td>0</td>\n",
       "    </tr>\n",
       "    <tr>\n",
       "      <th>1</th>\n",
       "      <td>WASH7P</td>\n",
       "      <td>1769</td>\n",
       "      <td>9</td>\n",
       "    </tr>\n",
       "    <tr>\n",
       "      <th>2</th>\n",
       "      <td>MIR6859-1</td>\n",
       "      <td>68</td>\n",
       "      <td>0</td>\n",
       "    </tr>\n",
       "    <tr>\n",
       "      <th>3</th>\n",
       "      <td>MIR1302-2HG</td>\n",
       "      <td>538</td>\n",
       "      <td>0</td>\n",
       "    </tr>\n",
       "    <tr>\n",
       "      <th>4</th>\n",
       "      <td>MIR1302-2</td>\n",
       "      <td>138</td>\n",
       "      <td>0</td>\n",
       "    </tr>\n",
       "  </tbody>\n",
       "</table>\n",
       "</div>"
      ],
      "text/plain": [
       "      GeneName  Length  Counts\n",
       "0      DDX11L1    1652       0\n",
       "1       WASH7P    1769       9\n",
       "2    MIR6859-1      68       0\n",
       "3  MIR1302-2HG     538       0\n",
       "4    MIR1302-2     138       0"
      ]
     },
     "execution_count": 10,
     "metadata": {},
     "output_type": "execute_result"
    }
   ],
   "source": [
    "# Let's read in count data for single mapped reads\n",
    "with open(\"../tmp/\"+treatment+\"_Transcriptome_featureCounts_SingleMappedReads_JustCounts.txt\") as f:\n",
    "    lines = f.readlines()\n",
    "with open(\"../tmp/\"+treatment+\"_Transcriptome_featureCounts_SingleMappedReads_JustCounts_DropHeader.txt\",'w') as fw:\n",
    "    fw.writelines(lines[1:])\n",
    "singleMap = pd.read_csv(\"../tmp/\"+treatment+\"_Transcriptome_featureCounts_SingleMappedReads_JustCounts_DropHeader.txt\",header=0,sep=\"\\t\")\n",
    "print singleMap.shape\n",
    "singleMap.columns = [\"GeneName\",\"Length\",\"Counts\"]\n",
    "singleMap.head()"
   ]
  },
  {
   "cell_type": "code",
   "execution_count": 11,
   "metadata": {},
   "outputs": [
    {
     "data": {
      "text/html": [
       "<div>\n",
       "<style scoped>\n",
       "    .dataframe tbody tr th:only-of-type {\n",
       "        vertical-align: middle;\n",
       "    }\n",
       "\n",
       "    .dataframe tbody tr th {\n",
       "        vertical-align: top;\n",
       "    }\n",
       "\n",
       "    .dataframe thead th {\n",
       "        text-align: right;\n",
       "    }\n",
       "</style>\n",
       "<table border=\"1\" class=\"dataframe\">\n",
       "  <thead>\n",
       "    <tr style=\"text-align: right;\">\n",
       "      <th></th>\n",
       "      <th>GeneName</th>\n",
       "      <th>Length</th>\n",
       "      <th>Counts</th>\n",
       "    </tr>\n",
       "  </thead>\n",
       "  <tbody>\n",
       "    <tr>\n",
       "      <th>9646</th>\n",
       "      <td>LCP1</td>\n",
       "      <td>3889</td>\n",
       "      <td>123571</td>\n",
       "    </tr>\n",
       "    <tr>\n",
       "      <th>17143</th>\n",
       "      <td>EEF2</td>\n",
       "      <td>3158</td>\n",
       "      <td>59564</td>\n",
       "    </tr>\n",
       "    <tr>\n",
       "      <th>30843</th>\n",
       "      <td>CD74</td>\n",
       "      <td>2488</td>\n",
       "      <td>56130</td>\n",
       "    </tr>\n",
       "    <tr>\n",
       "      <th>13528</th>\n",
       "      <td>CORO1A</td>\n",
       "      <td>2227</td>\n",
       "      <td>41746</td>\n",
       "    </tr>\n",
       "    <tr>\n",
       "      <th>31261</th>\n",
       "      <td>IRF4</td>\n",
       "      <td>5461</td>\n",
       "      <td>29594</td>\n",
       "    </tr>\n",
       "  </tbody>\n",
       "</table>\n",
       "</div>"
      ],
      "text/plain": [
       "      GeneName  Length  Counts\n",
       "9646      LCP1    3889  123571\n",
       "17143     EEF2    3158   59564\n",
       "30843     CD74    2488   56130\n",
       "13528   CORO1A    2227   41746\n",
       "31261     IRF4    5461   29594"
      ]
     },
     "execution_count": 11,
     "metadata": {},
     "output_type": "execute_result"
    }
   ],
   "source": [
    "# Sort the single mapped reads\n",
    "singleMap_sorted = singleMap.sort_values(by=[\"Counts\"],ascending=False)\n",
    "singleMap_sorted.head()"
   ]
  },
  {
   "cell_type": "code",
   "execution_count": 12,
   "metadata": {},
   "outputs": [
    {
     "name": "stdout",
     "output_type": "stream",
     "text": [
      "LCP1\n",
      "EEF2\n",
      "CD74\n",
      "CORO1A\n",
      "IRF4\n",
      "MS4A1\n",
      "CALR\n",
      "TNFAIP3\n",
      "NEAT1\n",
      "TLN1\n"
     ]
    }
   ],
   "source": [
    "# Get the top 50 genes with most counts\n",
    "singleMap_top10 = list(singleMap_sorted.iloc[range(10),0].values)\n",
    "for i in singleMap_top10:\n",
    "    print(i)"
   ]
  },
  {
   "cell_type": "code",
   "execution_count": 13,
   "metadata": {},
   "outputs": [
    {
     "name": "stdout",
     "output_type": "stream",
     "text": [
      "(38310, 3)\n"
     ]
    },
    {
     "data": {
      "text/html": [
       "<div>\n",
       "<style scoped>\n",
       "    .dataframe tbody tr th:only-of-type {\n",
       "        vertical-align: middle;\n",
       "    }\n",
       "\n",
       "    .dataframe tbody tr th {\n",
       "        vertical-align: top;\n",
       "    }\n",
       "\n",
       "    .dataframe thead th {\n",
       "        text-align: right;\n",
       "    }\n",
       "</style>\n",
       "<table border=\"1\" class=\"dataframe\">\n",
       "  <thead>\n",
       "    <tr style=\"text-align: right;\">\n",
       "      <th></th>\n",
       "      <th>GeneName</th>\n",
       "      <th>Length</th>\n",
       "      <th>Counts</th>\n",
       "    </tr>\n",
       "  </thead>\n",
       "  <tbody>\n",
       "    <tr>\n",
       "      <th>0</th>\n",
       "      <td>DDX11L1</td>\n",
       "      <td>1652</td>\n",
       "      <td>163</td>\n",
       "    </tr>\n",
       "    <tr>\n",
       "      <th>1</th>\n",
       "      <td>WASH7P</td>\n",
       "      <td>1769</td>\n",
       "      <td>529</td>\n",
       "    </tr>\n",
       "    <tr>\n",
       "      <th>2</th>\n",
       "      <td>MIR6859-1</td>\n",
       "      <td>68</td>\n",
       "      <td>7</td>\n",
       "    </tr>\n",
       "    <tr>\n",
       "      <th>3</th>\n",
       "      <td>MIR1302-2HG</td>\n",
       "      <td>538</td>\n",
       "      <td>0</td>\n",
       "    </tr>\n",
       "    <tr>\n",
       "      <th>4</th>\n",
       "      <td>MIR1302-2</td>\n",
       "      <td>138</td>\n",
       "      <td>0</td>\n",
       "    </tr>\n",
       "  </tbody>\n",
       "</table>\n",
       "</div>"
      ],
      "text/plain": [
       "      GeneName  Length  Counts\n",
       "0      DDX11L1    1652     163\n",
       "1       WASH7P    1769     529\n",
       "2    MIR6859-1      68       7\n",
       "3  MIR1302-2HG     538       0\n",
       "4    MIR1302-2     138       0"
      ]
     },
     "execution_count": 13,
     "metadata": {},
     "output_type": "execute_result"
    }
   ],
   "source": [
    "# Let's read in count data for multi mapped reads\n",
    "with open(\"../tmp/\"+treatment+\"_Transcriptome_featureCounts_MultiMappedReads_JustCounts.txt\") as f:\n",
    "    lines = f.readlines()\n",
    "with open(\"../tmp/\"+treatment+\"_Transcriptome_featureCounts_MultiMappedReads_JustCounts_DropHeader.txt\",'w') as fw:\n",
    "    fw.writelines(lines[1:])\n",
    "multiMap = pd.read_csv(\"../tmp/\"+treatment+\"_Transcriptome_featureCounts_MultiMappedReads_JustCounts_DropHeader.txt\",header=0,sep=\"\\t\")\n",
    "print multiMap.shape\n",
    "multiMap.columns = [\"GeneName\",\"Length\",\"Counts\"]\n",
    "multiMap.head()"
   ]
  },
  {
   "cell_type": "code",
   "execution_count": 14,
   "metadata": {},
   "outputs": [
    {
     "data": {
      "text/html": [
       "<div>\n",
       "<style scoped>\n",
       "    .dataframe tbody tr th:only-of-type {\n",
       "        vertical-align: middle;\n",
       "    }\n",
       "\n",
       "    .dataframe tbody tr th {\n",
       "        vertical-align: top;\n",
       "    }\n",
       "\n",
       "    .dataframe thead th {\n",
       "        text-align: right;\n",
       "    }\n",
       "</style>\n",
       "<table border=\"1\" class=\"dataframe\">\n",
       "  <thead>\n",
       "    <tr style=\"text-align: right;\">\n",
       "      <th></th>\n",
       "      <th>GeneName</th>\n",
       "      <th>Length</th>\n",
       "      <th>Counts</th>\n",
       "    </tr>\n",
       "  </thead>\n",
       "  <tbody>\n",
       "    <tr>\n",
       "      <th>32284</th>\n",
       "      <td>RN7SK</td>\n",
       "      <td>332</td>\n",
       "      <td>184022</td>\n",
       "    </tr>\n",
       "    <tr>\n",
       "      <th>33393</th>\n",
       "      <td>ACTB</td>\n",
       "      <td>1922</td>\n",
       "      <td>92891</td>\n",
       "    </tr>\n",
       "    <tr>\n",
       "      <th>7566</th>\n",
       "      <td>GAPDH</td>\n",
       "      <td>1780</td>\n",
       "      <td>78233</td>\n",
       "    </tr>\n",
       "    <tr>\n",
       "      <th>22761</th>\n",
       "      <td>RNA45SN2</td>\n",
       "      <td>13315</td>\n",
       "      <td>70523</td>\n",
       "    </tr>\n",
       "    <tr>\n",
       "      <th>32398</th>\n",
       "      <td>EEF1A1</td>\n",
       "      <td>3512</td>\n",
       "      <td>66129</td>\n",
       "    </tr>\n",
       "  </tbody>\n",
       "</table>\n",
       "</div>"
      ],
      "text/plain": [
       "       GeneName  Length  Counts\n",
       "32284     RN7SK     332  184022\n",
       "33393      ACTB    1922   92891\n",
       "7566      GAPDH    1780   78233\n",
       "22761  RNA45SN2   13315   70523\n",
       "32398    EEF1A1    3512   66129"
      ]
     },
     "execution_count": 14,
     "metadata": {},
     "output_type": "execute_result"
    }
   ],
   "source": [
    "# Sort the multi mapped reads\n",
    "multiMap_sorted = multiMap.sort_values(by=[\"Counts\"],ascending=False)\n",
    "multiMap_sorted.head()"
   ]
  },
  {
   "cell_type": "code",
   "execution_count": 15,
   "metadata": {},
   "outputs": [
    {
     "name": "stdout",
     "output_type": "stream",
     "text": [
      "RN7SK\n",
      "ACTB\n",
      "GAPDH\n",
      "RNA45SN2\n",
      "EEF1A1\n",
      "RNA45SN1\n",
      "RNA45SN3\n",
      "SNORD141A\n",
      "LCP1\n",
      "TUBA1B\n"
     ]
    }
   ],
   "source": [
    "# Get the top 10 genes with most counts\n",
    "multiMap_top10 = list(multiMap_sorted.iloc[range(10),0].values)\n",
    "for i in multiMap_top10:\n",
    "    print(i)"
   ]
  },
  {
   "cell_type": "code",
   "execution_count": null,
   "metadata": {},
   "outputs": [],
   "source": []
  }
 ],
 "metadata": {
  "kernelspec": {
   "display_name": "Python 2",
   "language": "python",
   "name": "python2"
  },
  "language_info": {
   "codemirror_mode": {
    "name": "ipython",
    "version": 2
   },
   "file_extension": ".py",
   "mimetype": "text/x-python",
   "name": "python",
   "nbconvert_exporter": "python",
   "pygments_lexer": "ipython2",
   "version": "2.7.15rc1"
  }
 },
 "nbformat": 4,
 "nbformat_minor": 2
}
